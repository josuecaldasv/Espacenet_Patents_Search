{
 "cells": [
  {
   "cell_type": "code",
   "execution_count": 1,
   "metadata": {},
   "outputs": [],
   "source": [
    "import pandas as pd\n",
    "import numpy as np\n",
    "import networkx as nx\n",
    "import json\n",
    "import re"
   ]
  },
  {
   "cell_type": "code",
   "execution_count": 2,
   "metadata": {},
   "outputs": [
    {
     "name": "stderr",
     "output_type": "stream",
     "text": [
      "[nltk_data] Downloading package stopwords to\n",
      "[nltk_data]     /home/phaxssi/nltk_data...\n",
      "[nltk_data]   Package stopwords is already up-to-date!\n",
      "[nltk_data] Downloading package wordnet to /home/phaxssi/nltk_data...\n",
      "[nltk_data]   Package wordnet is already up-to-date!\n"
     ]
    }
   ],
   "source": [
    "import utils"
   ]
  },
  {
   "cell_type": "code",
   "execution_count": 3,
   "metadata": {},
   "outputs": [],
   "source": [
    "patents_info = pd.read_excel('graphs/total_patents_df.xlsx')\n",
    "patents_info = patents_info.drop(columns=['Unnamed: 0'])"
   ]
  },
  {
   "cell_type": "markdown",
   "metadata": {},
   "source": [
    "# 1. Most cited"
   ]
  },
  {
   "cell_type": "markdown",
   "metadata": {},
   "source": [
    "- Inventors\n",
    "- Companies (Applicant Name)\n",
    "- Countries\n",
    "- Top 20 most cited"
   ]
  },
  {
   "cell_type": "code",
   "execution_count": 4,
   "metadata": {},
   "outputs": [],
   "source": [
    "patents_most_cited = patents_info.sort_values(by='input_degree', ascending=False)"
   ]
  },
  {
   "cell_type": "markdown",
   "metadata": {},
   "source": [
    "### 1.1. Countries"
   ]
  },
  {
   "cell_type": "code",
   "execution_count": 6,
   "metadata": {},
   "outputs": [],
   "source": [
    "patents_most_cited_countries = patents_most_cited.copy()\n",
    "patents_most_cited_countries['country'] = patents_most_cited_countries.apply(utils.fill_country_from_patent_number, axis=1)\n",
    "countries_data = patents_most_cited_countries.explode('country')\n",
    "countries_citations = countries_data.groupby('country').agg({'input_degree': 'sum'}).reset_index()\n",
    "top_countries = countries_citations.sort_values(by='input_degree', ascending=False).head(25)\n",
    "top_countries_dict = top_countries.to_dict(orient='records')\n",
    "with open ('rankings/top_countries_cited.json', 'w') as f:\n",
    "    json.dump(top_countries_dict, f, indent=4)"
   ]
  },
  {
   "cell_type": "markdown",
   "metadata": {},
   "source": [
    "### 1.2. Inventors"
   ]
  },
  {
   "cell_type": "code",
   "execution_count": 8,
   "metadata": {},
   "outputs": [],
   "source": [
    "patents_most_cited_inventors = patents_most_cited.copy()\n",
    "patents_most_cited_inventors['inventor_names'] = patents_most_cited['inventor_names'].apply(utils.clean_and_deduplicate_names)\n",
    "df_exploded = patents_most_cited_inventors.explode('inventor_names')\n",
    "df_exploded = df_exploded.assign(inventor_names=df_exploded['inventor_names'].str.split(',')).explode('inventor_names')\n",
    "df_exploded['inventor_names'] = df_exploded['inventor_names'].str.strip()\n",
    "df_exploded = df_exploded[df_exploded['inventor_names'] != 'Unavailable information']\n",
    "inventor_citations = df_exploded.groupby('inventor_names')['input_degree'].sum()\n",
    "top_inventors = inventor_citations.sort_values(ascending=False).head(20)\n",
    "top_inventors_dict = top_inventors.to_dict()\n",
    "with open ('rankings/top_inventors_cited.json', 'w') as f:\n",
    "    json.dump(top_inventors_dict, f, indent=4)"
   ]
  },
  {
   "cell_type": "markdown",
   "metadata": {},
   "source": [
    "### 1.3. Applicants"
   ]
  },
  {
   "cell_type": "code",
   "execution_count": 12,
   "metadata": {},
   "outputs": [],
   "source": [
    "patents_most_cited_applicants = patents_most_cited.copy()\n",
    "patents_most_cited_applicants['applicant_names'] = patents_most_cited['applicant_names'].apply(utils.clean_and_deduplicate_names)\n",
    "df_exploded = patents_most_cited_applicants.explode('applicant_names')\n",
    "df_exploded = df_exploded.assign(applicant_names=df_exploded['applicant_names'].str.split(',')).explode('applicant_names')\n",
    "df_exploded['applicant_names'] = df_exploded['applicant_names'].str.strip()\n",
    "df_exploded = df_exploded[df_exploded['applicant_names'] != 'Unavailable information']\n",
    "applicant_citations = df_exploded.groupby('applicant_names')['input_degree'].sum()\n",
    "top_applicants = applicant_citations.sort_values(ascending=False).head(20)\n",
    "top_applicants_dict = top_applicants.to_dict()\n",
    "with open ('rankings/top_applicants_cited.json', 'w') as f:\n",
    "    json.dump(top_applicants_dict, f, indent=4)"
   ]
  },
  {
   "cell_type": "markdown",
   "metadata": {},
   "source": [
    "# 2. Most citing"
   ]
  },
  {
   "cell_type": "code",
   "execution_count": 7,
   "metadata": {},
   "outputs": [],
   "source": [
    "patents_most_citing = patents_info.sort_values(by='input_degree', ascending=False)"
   ]
  },
  {
   "cell_type": "markdown",
   "metadata": {},
   "source": [
    "### 2.1. Countries"
   ]
  },
  {
   "cell_type": "code",
   "execution_count": 8,
   "metadata": {},
   "outputs": [],
   "source": [
    "patents_most_cited_countries = patents_most_citing.copy()\n",
    "patents_most_cited_countries['country'] = patents_most_cited_countries.apply(utils.fill_country_from_patent_number, axis=1)\n",
    "countries_data = patents_most_cited_countries.explode('country')\n",
    "countries_citations = countries_data.groupby('country').agg({'output_degree': 'sum'}).reset_index()\n",
    "top_countries = countries_citations.sort_values(by='output_degree', ascending=False).head(25)\n",
    "top_countries_dict = top_countries.to_dict(orient='records')\n",
    "with open ('rankings/top_countries_citing.json', 'w') as f:\n",
    "    json.dump(top_countries_dict, f, indent=4)"
   ]
  },
  {
   "cell_type": "markdown",
   "metadata": {},
   "source": [
    "### 2.2. Inventors"
   ]
  },
  {
   "cell_type": "code",
   "execution_count": 11,
   "metadata": {},
   "outputs": [],
   "source": [
    "patents_most_citing_inventors = patents_most_citing.copy()\n",
    "patents_most_citing_inventors['inventor_names'] = patents_most_citing_inventors['inventor_names'].apply(utils.clean_and_deduplicate_names)\n",
    "df_exploded = patents_most_citing_inventors.explode('inventor_names')\n",
    "df_exploded = df_exploded.assign(inventor_names=df_exploded['inventor_names'].str.split(',')).explode('inventor_names')\n",
    "df_exploded['inventor_names'] = df_exploded['inventor_names'].str.strip()\n",
    "df_exploded = df_exploded[df_exploded['inventor_names'] != 'Unavailable information']\n",
    "inventor_citations = df_exploded.groupby('inventor_names')['output_degree'].sum()\n",
    "top_inventors = inventor_citations.sort_values(ascending=False).head(20)\n",
    "top_inventors_dict = top_inventors.to_dict()\n",
    "with open ('rankings/top_inventors_citing.json', 'w') as f:\n",
    "    json.dump(top_inventors_dict, f, indent=4, ensure_ascii=False)"
   ]
  },
  {
   "cell_type": "markdown",
   "metadata": {},
   "source": [
    "### 2.3. Applicants"
   ]
  },
  {
   "cell_type": "code",
   "execution_count": 13,
   "metadata": {},
   "outputs": [],
   "source": [
    "patents_most_citing_applicants = patents_most_citing.copy()\n",
    "patents_most_citing_applicants['applicant_names'] = patents_most_citing_applicants['applicant_names'].apply(utils.clean_and_deduplicate_names)\n",
    "df_exploded = patents_most_citing_applicants.explode('applicant_names')\n",
    "df_exploded = df_exploded.assign(applicant_names=df_exploded['applicant_names'].str.split(',')).explode('applicant_names')  \n",
    "df_exploded['applicant_names'] = df_exploded['applicant_names'].str.strip()\n",
    "df_exploded = df_exploded[df_exploded['applicant_names'] != 'Unavailable information']\n",
    "applicant_citations = df_exploded.groupby('applicant_names')['output_degree'].sum()\n",
    "top_applicants = applicant_citations.sort_values(ascending=False).head(20)\n",
    "top_applicants_dict = top_applicants.to_dict()\n",
    "with open ('rankings/top_applicants_citing.json', 'w') as f:\n",
    "    json.dump(top_applicants_dict, f, indent=4, ensure_ascii=False)"
   ]
  }
 ],
 "metadata": {
  "kernelspec": {
   "display_name": "crawler",
   "language": "python",
   "name": "python3"
  },
  "language_info": {
   "codemirror_mode": {
    "name": "ipython",
    "version": 3
   },
   "file_extension": ".py",
   "mimetype": "text/x-python",
   "name": "python",
   "nbconvert_exporter": "python",
   "pygments_lexer": "ipython3",
   "version": "3.10.14"
  }
 },
 "nbformat": 4,
 "nbformat_minor": 2
}
